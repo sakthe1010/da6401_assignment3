{
 "cells": [
  {
   "cell_type": "code",
   "execution_count": 1,
   "id": "cfcc722a",
   "metadata": {},
   "outputs": [
    {
     "name": "stdout",
     "output_type": "stream",
     "text": [
      "             Input      Target   Predicted\n",
      "6            hpaar       ஃபார்       ஃபார்\n",
      "7         agatrtri      அகற்றி      அகற்றி\n",
      "8          agattri      அகற்றி      அகற்றி\n",
      "9         akatrtri      அகற்றி      அகற்றி\n",
      "10    agatrtrinaar  அகற்றினார்  அகற்றினார்\n",
      "...            ...         ...         ...\n",
      "6787          hils      ஹில்ஸ்      ஹில்ஸ்\n",
      "6796       haerath       ஹேரத்       ஹேரத்\n",
      "6797       hearath       ஹேரத்       ஹேரத்\n",
      "6798        herath       ஹேரத்       ஹேரத்\n",
      "6807         hoali        ஹோலி        ஹோலி\n",
      "\n",
      "[3940 rows x 3 columns]\n",
      "\n",
      "Exact matches: 3940 / 6827 = 57.71%\n"
     ]
    }
   ],
   "source": [
    "import pandas as pd\n",
    "\n",
    "df = pd.read_csv(\"epoch_5_predictions.tsv\", sep=\"\\t\")\n",
    "\n",
    "# Fix: assign filtered result to a variable or just print it directly\n",
    "matched = df[df[\"Target\"] == df[\"Predicted\"]]\n",
    "print(matched)\n",
    "\n",
    "# Optional: to check how many matched\n",
    "print(f\"\\nExact matches: {len(matched)} / {len(df)} = {len(matched)/len(df):.2%}\")\n"
   ]
  },
  {
   "cell_type": "code",
   "execution_count": null,
   "id": "bf183750",
   "metadata": {},
   "outputs": [],
   "source": []
  }
 ],
 "metadata": {
  "kernelspec": {
   "display_name": "Python 3",
   "language": "python",
   "name": "python3"
  },
  "language_info": {
   "codemirror_mode": {
    "name": "ipython",
    "version": 3
   },
   "file_extension": ".py",
   "mimetype": "text/x-python",
   "name": "python",
   "nbconvert_exporter": "python",
   "pygments_lexer": "ipython3",
   "version": "3.12.5"
  }
 },
 "nbformat": 4,
 "nbformat_minor": 5
}
