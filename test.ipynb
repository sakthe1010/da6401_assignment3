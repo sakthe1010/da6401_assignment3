{
 "cells": [
  {
   "cell_type": "code",
   "execution_count": 1,
   "id": "cfcc722a",
   "metadata": {},
   "outputs": [
    {
     "name": "stdout",
     "output_type": "stream",
     "text": [
      "                Input          Target       Predicted\n",
      "12           agaththi          அகத்தி          அகத்தி\n",
      "13           akaththi          அகத்தி          அகத்தி\n",
      "28        agazhaaivil      அகழாய்வில்      அகழாய்வில்\n",
      "29        agazhaayvil      அகழாய்வில்      அகழாய்வில்\n",
      "31        akazhaayvil      அகழாய்வில்      அகழாய்வில்\n",
      "...               ...             ...             ...\n",
      "6827  srirangkaththil  ஸ்ரீரங்கத்தில்  ஸ்ரீரங்கத்தில்\n",
      "6844           haaris          ஹாரிஸ்          ஹாரிஸ்\n",
      "6857              hel            ஹெல்            ஹெல்\n",
      "6858             hell            ஹெல்            ஹெல்\n",
      "6861            hydro          ஹைட்ரோ          ஹைட்ரோ\n",
      "\n",
      "[3835 rows x 3 columns]\n",
      "\n",
      "Exact matches: 3835 / 6864 = 55.87%\n"
     ]
    }
   ],
   "source": [
    "import pandas as pd\n",
    "\n",
    "df = pd.read_csv(\"predictions_vanilla/best_model_test_predictions.tsv\", sep=\"\\t\")\n",
    "\n",
    "# Fix: assign filtered result to a variable or just print it directly\n",
    "matched = df[df[\"Target\"] == df[\"Predicted\"]]\n",
    "print(matched)\n",
    "\n",
    "# Optional: to check how many matched\n",
    "print(f\"\\nExact matches: {len(matched)} / {len(df)} = {len(matched)/len(df):.2%}\")\n"
   ]
  },
  {
   "cell_type": "code",
   "execution_count": 3,
   "id": "bf183750",
   "metadata": {},
   "outputs": [
    {
     "name": "stderr",
     "output_type": "stream",
     "text": [
      "findfont: Font family 'Noto Sans Tamil' not found.\n",
      "findfont: Font family 'Noto Sans Tamil' not found.\n",
      "findfont: Font family 'Noto Sans Tamil' not found.\n",
      "findfont: Font family 'Noto Sans Tamil' not found.\n",
      "findfont: Font family 'Noto Sans Tamil' not found.\n"
     ]
    },
    {
     "data": {
      "image/png": "[encoded data removed]",
      "text/plain": [
       "<Figure size 640x480 with 1 Axes>"
      ]
     },
     "metadata": {},
     "output_type": "display_data"
    }
   ],
   "source": [
    "import matplotlib.pyplot as plt\n",
    "plt.title(\"தமிழ்\", fontsize=18, fontname=\"Noto Sans Tamil\")\n",
    "plt.show()\n"
   ]
  },
  {
   "cell_type": "code",
   "execution_count": null,
   "id": "dbeccf5e",
   "metadata": {},
   "outputs": [],
   "source": []
  }
 ],
 "metadata": {
  "kernelspec": {
   "display_name": "Python 3",
   "language": "python",
   "name": "python3"
  },
  "language_info": {
   "codemirror_mode": {
    "name": "ipython",
    "version": 3
   },
   "file_extension": ".py",
   "mimetype": "text/x-python",
   "name": "python",
   "nbconvert_exporter": "python",
   "pygments_lexer": "ipython3",
   "version": "3.12.5"
  }
 },
 "nbformat": 4,
 "nbformat_minor": 5
}
