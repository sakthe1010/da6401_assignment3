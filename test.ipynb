{
 "cells": [
  {
   "cell_type": "code",
   "execution_count": 4,
   "id": "cfcc722a",
   "metadata": {},
   "outputs": [
    {
     "name": "stdout",
     "output_type": "stream",
     "text": [
      "             Input      Target   Predicted\n",
      "7         agatrtri      அகற்றி      அகற்றி\n",
      "8          agattri      அகற்றி      அகற்றி\n",
      "9         akatrtri      அகற்றி      அகற்றி\n",
      "10    agatrtrinaar  அகற்றினார்  அகற்றினார்\n",
      "11      akatrinaar  அகற்றினார்  அகற்றினார்\n",
      "...            ...         ...         ...\n",
      "6771          home        ஹாம்        ஹாம்\n",
      "6772      haarisan     ஹாரிசன்     ஹாரிசன்\n",
      "6785            hi          ஹி          ஹி\n",
      "6786         hills      ஹில்ஸ்      ஹில்ஸ்\n",
      "6787          hils      ஹில்ஸ்      ஹில்ஸ்\n",
      "\n",
      "[3262 rows x 3 columns]\n",
      "\n",
      "Exact matches: 3262 / 6827 = 47.78%\n"
     ]
    }
   ],
   "source": [
    "import pandas as pd\n",
    "\n",
    "df = pd.read_csv(\"predictions_epoch4.tsv\", sep=\"\\t\")\n",
    "\n",
    "# Fix: assign filtered result to a variable or just print it directly\n",
    "matched = df[df[\"Target\"] == df[\"Predicted\"]]\n",
    "print(matched)\n",
    "\n",
    "# Optional: to check how many matched\n",
    "print(f\"\\nExact matches: {len(matched)} / {len(df)} = {len(matched)/len(df):.2%}\")\n"
   ]
  },
  {
   "cell_type": "code",
   "execution_count": null,
   "id": "bf183750",
   "metadata": {},
   "outputs": [],
   "source": []
  }
 ],
 "metadata": {
  "kernelspec": {
   "display_name": "Python 3",
   "language": "python",
   "name": "python3"
  },
  "language_info": {
   "codemirror_mode": {
    "name": "ipython",
    "version": 3
   },
   "file_extension": ".py",
   "mimetype": "text/x-python",
   "name": "python",
   "nbconvert_exporter": "python",
   "pygments_lexer": "ipython3",
   "version": "3.12.5"
  }
 },
 "nbformat": 4,
 "nbformat_minor": 5
}
